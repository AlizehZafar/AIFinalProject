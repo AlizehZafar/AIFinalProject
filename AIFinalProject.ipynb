{
  "metadata": {
    "kernelspec": {
      "language": "python",
      "display_name": "Python 3",
      "name": "python3"
    },
    "language_info": {
      "name": "python",
      "version": "3.10.10",
      "mimetype": "text/x-python",
      "codemirror_mode": {
        "name": "ipython",
        "version": 3
      },
      "pygments_lexer": "ipython3",
      "nbconvert_exporter": "python",
      "file_extension": ".py"
    },
    "colab": {
      "provenance": [],
      "gpuType": "T4"
    },
    "accelerator": "GPU",
    "gpuClass": "standard"
  },
  "nbformat_minor": 0,
  "nbformat": 4,
  "cells": [
    {
      "cell_type": "code",
      "source": [
        "import os \n",
        "import glob\n",
        "import cv2\n",
        "import numpy as np\n",
        "import matplotlib.pyplot as plt\n",
        "from tqdm import tqdm\n",
        "import pandas as pd\n",
        "import numpy as np \n",
        "import pandas as pd\n",
        "import os\n",
        "from pathlib import Path\n",
        "from sklearn.model_selection import train_test_split \n",
        "from keras.preprocessing.image import ImageDataGenerator\n",
        "from tensorflow import keras\n",
        "from tensorflow.keras.models import Sequential\n",
        "from tensorflow.keras.layers import Dense, Dropout, Flatten, Conv2D, MaxPooling2D\n",
        "from tensorflow.keras.optimizers import Adam\n",
        "from tensorflow.keras.losses import SparseCategoricalCrossentropy\n",
        "import tensorflow as tf"
      ],
      "metadata": {
        "id": "I8bFATHuRpPc"
      },
      "execution_count": null,
      "outputs": []
    },
    {
      "cell_type": "code",
      "source": [
        "os.environ['KAGGLE_USERNAME'] = \"alizehzafar\"\n",
        "os.environ ['KAGGLE_KEY'] = \"12eb7f36b7ab2d9c237d6d88b43da6fd\"\n",
        "\n",
        "!kaggle datasets download -d aryashah2k/large-shoe-dataset-ut-zappos50k\n",
        "\n",
        "!unzip /content/large-shoe-dataset-ut-zappos50k.zip"
      ],
      "metadata": {
        "id": "x6aEs-zdT4gd"
      },
      "execution_count": null,
      "outputs": []
    },
    {
      "cell_type": "code",
      "source": [
        "def image_extractor(root_dir,image_array,image_labels,label,categories):\n",
        "\n",
        "    #root_dir = '/kaggle/input/large-shoe-dataset-ut-zappos50k/ut-zap50k-images/ut-zap50k-images/Boots/Ankle'\n",
        "    C = []\n",
        "    for subdir, dirs, files in os.walk(root_dir):\n",
        "        for file in files:\n",
        "            if file.endswith('.jpg'):\n",
        "                jpg_file_path = os.path.join(subdir, file)\n",
        "                image_array.append(jpg_file_path)\n",
        "               # image_array.append(cv2.imread(jpg_file_path, cv2.IMREAD_GRAYSCALE))\n",
        "                #image_labels.append(categories.index(label))\n",
        "                image_labels.append(label)\n",
        "                \n",
        "#print(len(image_array))      \n",
        "# Do something with the JPG file path"
      ],
      "metadata": {
        "_uuid": "8f2839f25d086af736a60e9eeb907d3b93b6e0e5",
        "_cell_guid": "b1076dfc-b9ad-4769-8c92-a6c4dae69d19",
        "execution": {
          "iopub.status.busy": "2023-05-09T12:11:24.750335Z",
          "iopub.execute_input": "2023-05-09T12:11:24.751192Z",
          "iopub.status.idle": "2023-05-09T12:11:24.758958Z",
          "shell.execute_reply.started": "2023-05-09T12:11:24.751158Z",
          "shell.execute_reply": "2023-05-09T12:11:24.757389Z"
        },
        "trusted": true,
        "id": "VY49iwLjRkJ1"
      },
      "execution_count": null,
      "outputs": []
    },
    {
      "cell_type": "code",
      "source": [
        "\n",
        "directory = \"/content/ut-zap50k-images-square/ut-zap50k-images-square\"\n",
        "#'/kaggle/input/large-shoe-dataset-ut-zappos50k/ut-zap50k-images-square/ut-zap50k-images-square'\n",
        "subDirectories = ['Boots','Sandals','Shoes','Slippers']\n",
        "categories = []\n",
        "image_array=[]\n",
        "image_labels=[]\n",
        "\n",
        "for category in subDirectories:\n",
        "    path = os.path.join(directory,category) #Path to a certain directory\n",
        "    label = os.path.basename(path)\n",
        "    print(\"Label Part 1:\",label)\n",
        "    for category1 in os.listdir(path):\n",
        "        subpath = os.path.join(path,category1)\n",
        "        sublabel = os.path.basename(subpath)+\" \"+label\n",
        "        print (\"Label:\",sublabel)\n",
        "        categories.append(sublabel)\n",
        "        image_extractor(subpath,image_array,image_labels,sublabel,categories)\n",
        "        print(\"1 \",subpath)\n",
        "        #sublabel = \"\"\n",
        "        \n",
        "\n",
        "print(image_array[0])\n",
        "print(image_labels[0])\n",
        "#plt.imshow(image_array[0])\n",
        "print(\"Images Length:\",len(image_array))\n",
        "print(\"Labels Length:\",len(image_labels))\n",
        "print(categories)"
      ],
      "metadata": {
        "execution": {
          "iopub.status.busy": "2023-05-09T12:11:27.572362Z",
          "iopub.execute_input": "2023-05-09T12:11:27.573018Z",
          "iopub.status.idle": "2023-05-09T12:11:40.918890Z",
          "shell.execute_reply.started": "2023-05-09T12:11:27.572981Z",
          "shell.execute_reply": "2023-05-09T12:11:40.917850Z"
        },
        "trusted": true,
        "id": "LDV14B9bRkJ4"
      },
      "execution_count": null,
      "outputs": []
    },
    {
      "cell_type": "code",
      "source": [
        "#test_dataframe = pd.DataFrame(\n",
        "#   {'TestImages': image_array,\n",
        "#     'TestLabels': image_labels\n",
        "#   })\n",
        "\n",
        "filepaths = pd.Series(image_array, name='ImagePaths').astype(str)\n",
        "Labels = pd.Series(image_labels, name='Labels').astype(str)\n",
        "\n",
        "img_df = pd.merge(filepaths, Labels, right_index = True, left_index = True)\n",
        "\n",
        "\n",
        "#Resampling it\n",
        "img_df.head()"
      ],
      "metadata": {
        "execution": {
          "iopub.status.busy": "2023-05-09T12:12:18.147684Z",
          "iopub.execute_input": "2023-05-09T12:12:18.148590Z",
          "iopub.status.idle": "2023-05-09T12:12:26.800320Z",
          "shell.execute_reply.started": "2023-05-09T12:12:18.148530Z",
          "shell.execute_reply": "2023-05-09T12:12:26.799198Z"
        },
        "trusted": true,
        "id": "7jrYN9mrRkJ9",
        "colab": {
          "base_uri": "https://localhost:8080/",
          "height": 206
        },
        "outputId": "11cafaf5-662d-44f8-b298-82208f0f0356"
      },
      "execution_count": null,
      "outputs": [
        {
          "output_type": "execute_result",
          "data": {
            "text/plain": [
              "                                          ImagePaths          Labels\n",
              "0  /content/ut-zap50k-images-square/ut-zap50k-ima...  Mid-Calf Boots\n",
              "1  /content/ut-zap50k-images-square/ut-zap50k-ima...  Mid-Calf Boots\n",
              "2  /content/ut-zap50k-images-square/ut-zap50k-ima...  Mid-Calf Boots\n",
              "3  /content/ut-zap50k-images-square/ut-zap50k-ima...  Mid-Calf Boots\n",
              "4  /content/ut-zap50k-images-square/ut-zap50k-ima...  Mid-Calf Boots"
            ],
            "text/html": [
              "\n",
              "  <div id=\"df-507ba086-dbe8-49a1-b4f1-73e5b3af9691\">\n",
              "    <div class=\"colab-df-container\">\n",
              "      <div>\n",
              "<style scoped>\n",
              "    .dataframe tbody tr th:only-of-type {\n",
              "        vertical-align: middle;\n",
              "    }\n",
              "\n",
              "    .dataframe tbody tr th {\n",
              "        vertical-align: top;\n",
              "    }\n",
              "\n",
              "    .dataframe thead th {\n",
              "        text-align: right;\n",
              "    }\n",
              "</style>\n",
              "<table border=\"1\" class=\"dataframe\">\n",
              "  <thead>\n",
              "    <tr style=\"text-align: right;\">\n",
              "      <th></th>\n",
              "      <th>ImagePaths</th>\n",
              "      <th>Labels</th>\n",
              "    </tr>\n",
              "  </thead>\n",
              "  <tbody>\n",
              "    <tr>\n",
              "      <th>0</th>\n",
              "      <td>/content/ut-zap50k-images-square/ut-zap50k-ima...</td>\n",
              "      <td>Mid-Calf Boots</td>\n",
              "    </tr>\n",
              "    <tr>\n",
              "      <th>1</th>\n",
              "      <td>/content/ut-zap50k-images-square/ut-zap50k-ima...</td>\n",
              "      <td>Mid-Calf Boots</td>\n",
              "    </tr>\n",
              "    <tr>\n",
              "      <th>2</th>\n",
              "      <td>/content/ut-zap50k-images-square/ut-zap50k-ima...</td>\n",
              "      <td>Mid-Calf Boots</td>\n",
              "    </tr>\n",
              "    <tr>\n",
              "      <th>3</th>\n",
              "      <td>/content/ut-zap50k-images-square/ut-zap50k-ima...</td>\n",
              "      <td>Mid-Calf Boots</td>\n",
              "    </tr>\n",
              "    <tr>\n",
              "      <th>4</th>\n",
              "      <td>/content/ut-zap50k-images-square/ut-zap50k-ima...</td>\n",
              "      <td>Mid-Calf Boots</td>\n",
              "    </tr>\n",
              "  </tbody>\n",
              "</table>\n",
              "</div>\n",
              "      <button class=\"colab-df-convert\" onclick=\"convertToInteractive('df-507ba086-dbe8-49a1-b4f1-73e5b3af9691')\"\n",
              "              title=\"Convert this dataframe to an interactive table.\"\n",
              "              style=\"display:none;\">\n",
              "        \n",
              "  <svg xmlns=\"http://www.w3.org/2000/svg\" height=\"24px\"viewBox=\"0 0 24 24\"\n",
              "       width=\"24px\">\n",
              "    <path d=\"M0 0h24v24H0V0z\" fill=\"none\"/>\n",
              "    <path d=\"M18.56 5.44l.94 2.06.94-2.06 2.06-.94-2.06-.94-.94-2.06-.94 2.06-2.06.94zm-11 1L8.5 8.5l.94-2.06 2.06-.94-2.06-.94L8.5 2.5l-.94 2.06-2.06.94zm10 10l.94 2.06.94-2.06 2.06-.94-2.06-.94-.94-2.06-.94 2.06-2.06.94z\"/><path d=\"M17.41 7.96l-1.37-1.37c-.4-.4-.92-.59-1.43-.59-.52 0-1.04.2-1.43.59L10.3 9.45l-7.72 7.72c-.78.78-.78 2.05 0 2.83L4 21.41c.39.39.9.59 1.41.59.51 0 1.02-.2 1.41-.59l7.78-7.78 2.81-2.81c.8-.78.8-2.07 0-2.86zM5.41 20L4 18.59l7.72-7.72 1.47 1.35L5.41 20z\"/>\n",
              "  </svg>\n",
              "      </button>\n",
              "      \n",
              "  <style>\n",
              "    .colab-df-container {\n",
              "      display:flex;\n",
              "      flex-wrap:wrap;\n",
              "      gap: 12px;\n",
              "    }\n",
              "\n",
              "    .colab-df-convert {\n",
              "      background-color: #E8F0FE;\n",
              "      border: none;\n",
              "      border-radius: 50%;\n",
              "      cursor: pointer;\n",
              "      display: none;\n",
              "      fill: #1967D2;\n",
              "      height: 32px;\n",
              "      padding: 0 0 0 0;\n",
              "      width: 32px;\n",
              "    }\n",
              "\n",
              "    .colab-df-convert:hover {\n",
              "      background-color: #E2EBFA;\n",
              "      box-shadow: 0px 1px 2px rgba(60, 64, 67, 0.3), 0px 1px 3px 1px rgba(60, 64, 67, 0.15);\n",
              "      fill: #174EA6;\n",
              "    }\n",
              "\n",
              "    [theme=dark] .colab-df-convert {\n",
              "      background-color: #3B4455;\n",
              "      fill: #D2E3FC;\n",
              "    }\n",
              "\n",
              "    [theme=dark] .colab-df-convert:hover {\n",
              "      background-color: #434B5C;\n",
              "      box-shadow: 0px 1px 3px 1px rgba(0, 0, 0, 0.15);\n",
              "      filter: drop-shadow(0px 1px 2px rgba(0, 0, 0, 0.3));\n",
              "      fill: #FFFFFF;\n",
              "    }\n",
              "  </style>\n",
              "\n",
              "      <script>\n",
              "        const buttonEl =\n",
              "          document.querySelector('#df-507ba086-dbe8-49a1-b4f1-73e5b3af9691 button.colab-df-convert');\n",
              "        buttonEl.style.display =\n",
              "          google.colab.kernel.accessAllowed ? 'block' : 'none';\n",
              "\n",
              "        async function convertToInteractive(key) {\n",
              "          const element = document.querySelector('#df-507ba086-dbe8-49a1-b4f1-73e5b3af9691');\n",
              "          const dataTable =\n",
              "            await google.colab.kernel.invokeFunction('convertToInteractive',\n",
              "                                                     [key], {});\n",
              "          if (!dataTable) return;\n",
              "\n",
              "          const docLinkHtml = 'Like what you see? Visit the ' +\n",
              "            '<a target=\"_blank\" href=https://colab.research.google.com/notebooks/data_table.ipynb>data table notebook</a>'\n",
              "            + ' to learn more about interactive tables.';\n",
              "          element.innerHTML = '';\n",
              "          dataTable['output_type'] = 'display_data';\n",
              "          await google.colab.output.renderOutput(dataTable, element);\n",
              "          const docLink = document.createElement('div');\n",
              "          docLink.innerHTML = docLinkHtml;\n",
              "          element.appendChild(docLink);\n",
              "        }\n",
              "      </script>\n",
              "    </div>\n",
              "  </div>\n",
              "  "
            ]
          },
          "metadata": {},
          "execution_count": 17
        }
      ]
    },
    {
      "cell_type": "code",
      "source": [
        "img_df = img_df.groupby('Labels').filter(lambda x : len(x)>=10)\n",
        "img_df['Labels'].value_counts(ascending=True)\n"
      ],
      "metadata": {
        "execution": {
          "iopub.status.busy": "2023-05-09T12:12:31.674639Z",
          "iopub.execute_input": "2023-05-09T12:12:31.675235Z",
          "iopub.status.idle": "2023-05-09T12:12:31.710112Z",
          "shell.execute_reply.started": "2023-05-09T12:12:31.675204Z",
          "shell.execute_reply": "2023-05-09T12:12:31.709252Z"
        },
        "trusted": true,
        "id": "b4p5nxjyRkJ-",
        "colab": {
          "base_uri": "https://localhost:8080/"
        },
        "outputId": "ffd7b9c3-b582-418d-aa3f-f67b21c678fa"
      },
      "execution_count": null,
      "outputs": [
        {
          "output_type": "execute_result",
          "data": {
            "text/plain": [
              "Slipper Heels Slippers                  10\n",
              "Boot Slippers                           14\n",
              "Athletic Sandals                        14\n",
              "Crib Shoes Shoes                        23\n",
              "Over the Knee Boots                     49\n",
              "Heel Sandals                           126\n",
              "Prewalker Shoes                        249\n",
              "Firstwalker Shoes                      369\n",
              "Boat Shoes Shoes                       629\n",
              "Slipper Flats Slippers                1259\n",
              "Clogs and Mules Shoes                 1427\n",
              "Oxfords Shoes                         2044\n",
              "Knee High Boots                       2202\n",
              "Loafers Shoes                         2875\n",
              "Flats Shoes                           3994\n",
              "Mid-Calf Boots                        4726\n",
              "Flat Sandals                          5601\n",
              "Heels Shoes                           5739\n",
              "Ankle Boots                           5855\n",
              "Sneakers and Athletic Shoes Shoes    12859\n",
              "Name: Labels, dtype: int64"
            ]
          },
          "metadata": {},
          "execution_count": 18
        }
      ]
    },
    {
      "cell_type": "code",
      "source": [
        "train_ratio = 0.7\n",
        "validation_ratio = 0.15\n",
        "test_ratio = 0.15\n",
        "\n",
        "\n",
        "x_train, x_test = train_test_split(img_df, test_size=1 - train_ratio, stratify=img_df['Labels'])\n",
        "x_val, x_test = train_test_split(x_test, test_size=test_ratio/(test_ratio + validation_ratio),stratify=x_test['Labels']) \n",
        "\n",
        "print(f'Shape of Training Data : ',x_train.shape)\n",
        "print(f'Shape of Testing Data : ',x_test.shape)\n",
        "print(f'Shape of Validation Data : ',x_val.shape)\n",
        "x_test = x_test.copy()\n",
        "x_tr = x_test\n",
        "\n"
      ],
      "metadata": {
        "execution": {
          "iopub.status.busy": "2023-05-09T12:12:34.869788Z",
          "iopub.execute_input": "2023-05-09T12:12:34.870483Z",
          "iopub.status.idle": "2023-05-09T12:12:34.963138Z",
          "shell.execute_reply.started": "2023-05-09T12:12:34.870447Z",
          "shell.execute_reply": "2023-05-09T12:12:34.961888Z"
        },
        "trusted": true,
        "id": "bnxA0gisRkJ_",
        "outputId": "4c47b4ea-9f41-41a2-ff39-a0e0cb693cd3",
        "colab": {
          "base_uri": "https://localhost:8080/"
        }
      },
      "execution_count": null,
      "outputs": [
        {
          "output_type": "stream",
          "name": "stdout",
          "text": [
            "Shape of Training Data :  (35044, 2)\n",
            "Shape of Testing Data :  (7510, 2)\n",
            "Shape of Validation Data :  (7510, 2)\n"
          ]
        }
      ]
    },
    {
      "cell_type": "code",
      "source": [
        "img_datagen = ImageDataGenerator(preprocessing_function=tf.keras.applications.mobilenet_v2.preprocess_input)\n",
        "\n",
        "img_size=(224, 224)    \n",
        "\n",
        "x_train = img_datagen.flow_from_dataframe(dataframe = x_train, x_col='ImagePaths', y_col='Labels', target_size=img_size, color_mode='rgb',class_mode='categorical',batch_size=32,seed=42)\n",
        "x_test = img_datagen.flow_from_dataframe(dataframe = x_test, x_col='ImagePaths', y_col='Labels', target_size=img_size,color_mode='rgb',class_mode='categorical',batch_size=32,seed=42)\n",
        "x_val = img_datagen.flow_from_dataframe(dataframe = x_val, x_col='ImagePaths', y_col='Labels', target_size=img_size, color_mode='rgb',class_mode='categorical',batch_size=32,seed=42)"
      ],
      "metadata": {
        "execution": {
          "iopub.status.busy": "2023-05-09T12:12:39.041911Z",
          "iopub.execute_input": "2023-05-09T12:12:39.042369Z",
          "iopub.status.idle": "2023-05-09T12:13:04.119960Z",
          "shell.execute_reply.started": "2023-05-09T12:12:39.042320Z",
          "shell.execute_reply": "2023-05-09T12:13:04.119146Z"
        },
        "trusted": true,
        "id": "nL3zABMbRkKA",
        "outputId": "998d4cd4-e900-4c9d-9b8c-b92f7c5051dd",
        "colab": {
          "base_uri": "https://localhost:8080/"
        }
      },
      "execution_count": null,
      "outputs": [
        {
          "output_type": "stream",
          "name": "stdout",
          "text": [
            "Found 35044 validated image filenames belonging to 20 classes.\n",
            "Found 7510 validated image filenames belonging to 20 classes.\n",
            "Found 7510 validated image filenames belonging to 20 classes.\n"
          ]
        }
      ]
    },
    {
      "cell_type": "code",
      "source": [
        "model = keras.Sequential([\n",
        "\n",
        "    # First Convolutional Block\n",
        "    tf.keras.layers.Conv2D(filters=32, kernel_size=5, activation=\"relu\", padding='same',\n",
        "                  # give the input dimensions in the first layer\n",
        "                  # [height, width, color channels(RGB)]\n",
        "                 input_shape=[224, 224, 3]),\n",
        "    tf.keras.layers.MaxPool2D(),\n",
        "\n",
        "    # Second Convolutional Block\n",
        "    tf.keras.layers.Conv2D(filters=64, kernel_size=3, activation=\"relu\", padding='same'),\n",
        "    tf.keras.layers.MaxPool2D(),\n",
        "\n",
        "    # Third Convolutional Block\n",
        "    tf.keras.layers.Conv2D(filters=128, kernel_size=3, activation=\"relu\", padding='same'),\n",
        "    tf.keras.layers.MaxPool2D(),\n",
        "\n",
        "    # Classifier Head\n",
        "    tf.keras.layers.Flatten(),\n",
        "    tf.keras.layers.Dense(740, activation=\"relu\"),\n",
        "    tf.keras.layers.Dense(20, activation=\"softmax\"),\n",
        "])\n",
        "#model.summary()\n",
        "\n",
        "model.compile(optimizer=\"adam\",\n",
        "             loss=\"binary_crossentropy\",\n",
        "             metrics=[\"accuracy\"])"
      ],
      "metadata": {
        "execution": {
          "iopub.status.busy": "2023-05-09T12:13:33.731931Z",
          "iopub.execute_input": "2023-05-09T12:13:33.732299Z",
          "iopub.status.idle": "2023-05-09T12:13:33.808365Z",
          "shell.execute_reply.started": "2023-05-09T12:13:33.732270Z",
          "shell.execute_reply": "2023-05-09T12:13:33.807509Z"
        },
        "trusted": true,
        "id": "zD6nogp2RkKB"
      },
      "execution_count": null,
      "outputs": []
    },
    {
      "cell_type": "code",
      "source": [
        "Callback = tf.keras.callbacks.EarlyStopping(monitor='accuracy', patience=3)\n",
        "model_fit = model.fit(x_train,\n",
        "                      validation_data = x_val, \n",
        "                      epochs = 10, callbacks=Callback)"
      ],
      "metadata": {
        "execution": {
          "iopub.status.busy": "2023-05-09T12:13:37.090330Z",
          "iopub.execute_input": "2023-05-09T12:13:37.090816Z",
          "iopub.status.idle": "2023-05-09T12:20:30.699785Z",
          "shell.execute_reply.started": "2023-05-09T12:13:37.090777Z",
          "shell.execute_reply": "2023-05-09T12:20:30.698793Z"
        },
        "trusted": true,
        "id": "Dc5LVwtvRkKB",
        "colab": {
          "base_uri": "https://localhost:8080/"
        },
        "outputId": "dadd69a8-f6c4-455a-e524-cc25b124eec8"
      },
      "execution_count": null,
      "outputs": [
        {
          "output_type": "stream",
          "name": "stdout",
          "text": [
            "Epoch 1/10\n",
            "1096/1096 [==============================] - 98s 89ms/step - loss: 0.0618 - accuracy: 0.7711 - val_loss: 0.0496 - val_accuracy: 0.8096\n",
            "Epoch 2/10\n",
            "1096/1096 [==============================] - 95s 86ms/step - loss: 0.0388 - accuracy: 0.8567 - val_loss: 0.0423 - val_accuracy: 0.8443\n",
            "Epoch 3/10\n",
            "1096/1096 [==============================] - 96s 88ms/step - loss: 0.0236 - accuracy: 0.9174 - val_loss: 0.0500 - val_accuracy: 0.8427\n",
            "Epoch 4/10\n",
            "1096/1096 [==============================] - 92s 84ms/step - loss: 0.0109 - accuracy: 0.9664 - val_loss: 0.0650 - val_accuracy: 0.8415\n",
            "Epoch 5/10\n",
            "1096/1096 [==============================] - 90s 82ms/step - loss: 0.0065 - accuracy: 0.9837 - val_loss: 0.0776 - val_accuracy: 0.8433\n",
            "Epoch 6/10\n",
            "1096/1096 [==============================] - 92s 84ms/step - loss: 0.0043 - accuracy: 0.9912 - val_loss: 0.0993 - val_accuracy: 0.8394\n",
            "Epoch 7/10\n",
            "1096/1096 [==============================] - 91s 83ms/step - loss: 0.0039 - accuracy: 0.9933 - val_loss: 0.0986 - val_accuracy: 0.8399\n",
            "Epoch 8/10\n",
            "1096/1096 [==============================] - 90s 82ms/step - loss: 0.0030 - accuracy: 0.9950 - val_loss: 0.1106 - val_accuracy: 0.8433\n",
            "Epoch 9/10\n",
            "1096/1096 [==============================] - 90s 82ms/step - loss: 0.0028 - accuracy: 0.9961 - val_loss: 0.1348 - val_accuracy: 0.8410\n",
            "Epoch 10/10\n",
            "1096/1096 [==============================] - 90s 82ms/step - loss: 0.0023 - accuracy: 0.9962 - val_loss: 0.1360 - val_accuracy: 0.8352\n"
          ]
        }
      ]
    },
    {
      "cell_type": "code",
      "source": [
        "test_accuracy = model.evaluate(x_test)[1] * 100\n",
        "print('Test accuracy is : ',test_accuracy, '%' )"
      ],
      "metadata": {
        "execution": {
          "iopub.status.busy": "2023-05-09T12:48:17.994675Z",
          "iopub.execute_input": "2023-05-09T12:48:17.995033Z",
          "iopub.status.idle": "2023-05-09T12:48:55.371854Z",
          "shell.execute_reply.started": "2023-05-09T12:48:17.995003Z",
          "shell.execute_reply": "2023-05-09T12:48:55.370768Z"
        },
        "trusted": true,
        "id": "DZQ7m_VGRkKC",
        "outputId": "25bdbbd8-1564-49bd-fe6e-bf2ca2638ee4",
        "colab": {
          "base_uri": "https://localhost:8080/"
        }
      },
      "execution_count": null,
      "outputs": [
        {
          "output_type": "stream",
          "name": "stdout",
          "text": [
            "235/235 [==============================] - 13s 57ms/step - loss: 0.1107 - accuracy: 0.8394\n",
            "Test accuracy is :  83.9414119720459 %\n"
          ]
        }
      ]
    },
    {
      "cell_type": "code",
      "source": [
        "probability_model = tf.keras.Sequential([model,tf.keras.layers.Softmax()])\n",
        "predictions = probability_model.predict(x_test)"
      ],
      "metadata": {
        "execution": {
          "iopub.status.busy": "2023-05-09T12:49:01.241062Z",
          "iopub.execute_input": "2023-05-09T12:49:01.241433Z",
          "iopub.status.idle": "2023-05-09T12:49:16.119551Z",
          "shell.execute_reply.started": "2023-05-09T12:49:01.241400Z",
          "shell.execute_reply": "2023-05-09T12:49:16.118540Z"
        },
        "trusted": true,
        "id": "kfdJzjSSRkKD",
        "outputId": "39017029-5ecc-47fe-aacb-247f9ef43c49",
        "colab": {
          "base_uri": "https://localhost:8080/"
        }
      },
      "execution_count": null,
      "outputs": [
        {
          "output_type": "stream",
          "name": "stdout",
          "text": [
            "235/235 [==============================] - 13s 56ms/step\n"
          ]
        }
      ]
    },
    {
      "cell_type": "code",
      "source": [
        "print(\"Prediction(0)\",predictions[0])\n",
        "print(\"Prediction(1)\",np.argmax(predictions[0]))\n",
        "print(\"Prediction(2)\",categories[np.argmax(predictions[0])])\n",
        "print(\"\")"
      ],
      "metadata": {
        "execution": {
          "iopub.status.busy": "2023-05-09T12:51:11.446162Z",
          "iopub.execute_input": "2023-05-09T12:51:11.446860Z",
          "iopub.status.idle": "2023-05-09T12:51:11.453800Z",
          "shell.execute_reply.started": "2023-05-09T12:51:11.446825Z",
          "shell.execute_reply": "2023-05-09T12:51:11.452716Z"
        },
        "trusted": true,
        "id": "A_8rh_U1RkKE",
        "outputId": "2bcc6db0-df77-49d1-98d3-b2e2e13fb174",
        "colab": {
          "base_uri": "https://localhost:8080/"
        }
      },
      "execution_count": null,
      "outputs": [
        {
          "output_type": "stream",
          "name": "stdout",
          "text": [
            "Prediction(0) [0.04604416 0.04604416 0.04604416 0.04604416 0.04604416 0.04604416\n",
            " 0.04604416 0.04604416 0.04604416 0.04604416 0.04604416 0.04604416\n",
            " 0.04604416 0.12516098 0.04604416 0.04604416 0.04604416 0.04604416\n",
            " 0.04604416 0.04604416]\n",
            "Prediction(1) 13\n",
            "Prediction(2) Loafers Shoes\n",
            "\n"
          ]
        }
      ]
    },
    {
      "cell_type": "code",
      "source": [
        "from PIL import Image\n",
        "#print(x_tr.head())\n",
        "x_tr1 = x_tr['ImagePaths'].. to_list()\n",
        "im = Image.open(\"\"+rx_tr1[0])\n",
        "im.show()"
      ],
      "metadata": {
        "id": "ajP9S4S_bRY-"
      },
      "execution_count": null,
      "outputs": []
    },
    {
      "cell_type": "code",
      "source": [
        "from tensorflow.keras.models import load_model\n",
        "model.save('/content/models/FinalProject1.h5')"
      ],
      "metadata": {
        "execution": {
          "iopub.status.busy": "2023-05-09T12:59:34.100504Z",
          "iopub.execute_input": "2023-05-09T12:59:34.100849Z",
          "iopub.status.idle": "2023-05-09T12:59:38.441263Z",
          "shell.execute_reply.started": "2023-05-09T12:59:34.100821Z",
          "shell.execute_reply": "2023-05-09T12:59:38.439991Z"
        },
        "trusted": true,
        "id": "1CD0_2nfRkKE"
      },
      "execution_count": null,
      "outputs": []
    },
    {
      "cell_type": "code",
      "source": [
        "from tensorflow.keras.models import load_model\n",
        "m = load_model('/content/models/FinalProjectVer3.h5')\n",
        "pred = m.predict(x_test)"
      ],
      "metadata": {
        "execution": {
          "iopub.status.busy": "2023-05-09T12:59:52.101533Z",
          "iopub.execute_input": "2023-05-09T12:59:52.101885Z",
          "iopub.status.idle": "2023-05-09T12:59:56.205264Z",
          "shell.execute_reply.started": "2023-05-09T12:59:52.101845Z",
          "shell.execute_reply": "2023-05-09T12:59:56.203991Z"
        },
        "trusted": true,
        "id": "4XR5JsU5RkKF",
        "colab": {
          "base_uri": "https://localhost:8080/"
        },
        "outputId": "4a122d05-7a9f-4daf-8bfb-4c62ecf775ab"
      },
      "execution_count": null,
      "outputs": [
        {
          "output_type": "stream",
          "name": "stdout",
          "text": [
            "235/235 [==============================] - 13s 55ms/step\n"
          ]
        }
      ]
    },
    {
      "cell_type": "markdown",
      "source": [
        "# Color Extractor"
      ],
      "metadata": {
        "id": "9KlrdxmpYap4"
      }
    },
    {
      "cell_type": "code",
      "source": [
        "print(pred[0])\n",
        "print(np.argmax(pred[0]))\n",
        "print(categories[np.argmax(pred[0])])"
      ],
      "metadata": {
        "id": "OZnOZFlPWKwl"
      },
      "execution_count": null,
      "outputs": []
    },
    {
      "cell_type": "code",
      "source": [
        "import cv2\n",
        "import numpy as np\n",
        "import matplotlib.pyplot as plt\n",
        "\n",
        "def get_main_colors(image_path):\n",
        "    # Load the image\n",
        "    image = cv2.imread(image_path)\n",
        "\n",
        "    # Convert the image from BGR to RGB\n",
        "    image = cv2.cvtColor(image, cv2.COLOR_BGR2RGB)\n",
        "\n",
        "    # Flatten the image into a 1D array of pixels\n",
        "    pixels = image.reshape(-1, 3)\n",
        "\n",
        "    # Calculate the histogram of pixel colors\n",
        "    hist, bins = np.histogramdd(pixels, bins=256, range=((0, 256), (0, 256), (0, 256)))\n",
        "\n",
        "    # Find the two most common colors\n",
        "    indices = np.unravel_index(np.argsort(hist, axis=None)[::-1][:2], hist.shape)\n",
        "    colors = np.array([bins[i][indices[i]] for i in range(3)])\n",
        "\n",
        "    # Plot the histogram\n",
        "    fig, ax = plt.subplots()\n",
        "    ax.bar(range(len(hist)), hist.flatten())\n",
        "\n",
        "    # Plot the main colors on the histogram\n",
        "    for color in colors:\n",
        "        ax.axvline(color, color='r')\n",
        "\n",
        "    # Show the plot\n",
        "    plt.show()\n",
        "\n",
        "    return colors"
      ],
      "metadata": {
        "id": "zupmZMgPWabL"
      },
      "execution_count": null,
      "outputs": []
    },
    {
      "cell_type": "code",
      "source": [
        "pip install color_extraction"
      ],
      "metadata": {
        "id": "NrfQLwFBcuwd"
      },
      "execution_count": null,
      "outputs": []
    },
    {
      "cell_type": "code",
      "source": [
        "from google.colab.patches import cv2_imshow\n",
        "import cv2\n",
        "import numpy as np\n",
        "import matplotlib.pyplot as plt\n",
        "img_path = '/7833418.764.jpg'\n",
        "img = cv2.imread(img_path, cv2.COLOR_BGR2RGB)  # Specify the color conversion flag\n",
        "cv2_imshow(img)"
      ],
      "metadata": {
        "id": "XHsNKzdAmNLK",
        "colab": {
          "base_uri": "https://localhost:8080/",
          "height": 153
        },
        "outputId": "8305b8de-8996-42f3-a50f-0d3f30105199"
      },
      "execution_count": null,
      "outputs": [
        {
          "output_type": "display_data",
          "data": {
            "text/plain": [
              "<PIL.Image.Image image mode=RGB size=136x136 at 0x7F2A7FFA3970>"
            ],
            "image/png": "[encoded data removed]"
          },
          "metadata": {}
        }
      ]
    },
    {
      "cell_type": "code",
      "source": [],
      "metadata": {
        "id": "EzPcH-CUhfZS"
      },
      "execution_count": null,
      "outputs": []
    },
    {
      "cell_type": "code",
      "source": [
        "import cv2\n",
        "import matplotlib.pyplot as plt\n",
        "import color_extraction\n",
        "def colorChecker(img_path):\n",
        "  \n",
        "  img = cv2.imread(img_path)\n",
        "  #assert img is not None, f\"Failed to load image file at path {img_path}\"\n",
        "  img = cv2.cvtColor(img, cv2.COLOR_BGR2RGB)  # Convert BGR to RGB\n",
        "\n",
        "  counts = color_extraction.get_counts(img)\n",
        " # print(counts)\n",
        "\n",
        "  sorted_counts = sorted(counts.items(), key=lambda x: x[1], reverse=True)\n",
        "  top_three = sorted_counts[:5]\n",
        "  print(top_three)\n",
        "\n",
        "  print(\"Top three colors:\")\n",
        "  for color, count in top_three:\n",
        "      print(f\"{color}: {count}\")\n",
        "\n",
        "  colors = [color for color, count in top_three]\n",
        "  counts = [count for color, count in top_three]\n",
        "\n",
        "  plt.bar(colors, counts)\n",
        "  plt.xlabel('Colors')\n",
        "  plt.ylabel('Counts')\n",
        "  plt.title('Top Three Colors')\n",
        "  plt.show()\n"
      ],
      "metadata": {
        "id": "ctMUEzAkY0QH"
      },
      "execution_count": null,
      "outputs": []
    },
    {
      "cell_type": "markdown",
      "source": [
        "User End Code"
      ],
      "metadata": {
        "id": "xKI_hJipn8Lr"
      }
    },
    {
      "cell_type": "code",
      "source": [
        "import cv2\n",
        "import matplotlib.pyplot as plt\n",
        "import color_extraction\n",
        "def userOutput(img_path,AIModel):\n",
        "  \n",
        "  img = cv2.imread(img_path, cv2.IMREAD_COLOR) #Reading color images\n",
        "  img = cv2.resize(img, (224,224))\n",
        "  image_array = []\n",
        "  image_array.append(img)\n",
        "  image_array = np.array(image_array)\n",
        "  probability_model = tf.keras.Sequential([AIModel,tf.keras.layers.Softmax()])\n",
        "  prediction = probability_model.predict(image_array)\n",
        "  print(\"Type of Shoe:\",categories[np.argmax(prediction[0])])\n",
        "  print(\"Color:\")\n",
        "  colorChecker(img_path)\n",
        "\n",
        "  cv2_imshow(img)\n",
        "\n",
        "\n",
        "#sentence = format_prediction(sentence)\n",
        "#colorChecker(img_path)\n",
        "#model.predict(img_path)\n",
        "#def userOutput(path):\n"
      ],
      "metadata": {
        "id": "ZnrEHZZ2rUF4"
      },
      "execution_count": null,
      "outputs": []
    },
    {
      "cell_type": "code",
      "source": [
        "\n",
        "  from google.colab import drive\n",
        "  drive.mount('/content/drive')"
      ],
      "metadata": {
        "id": "BtWfylQZeapI",
        "colab": {
          "base_uri": "https://localhost:8080/"
        },
        "outputId": "c6e8622a-af00-4956-eaf7-5233beb3d9e7"
      },
      "execution_count": null,
      "outputs": [
        {
          "output_type": "stream",
          "name": "stdout",
          "text": [
            "Drive already mounted at /content/drive; to attempt to forcibly remount, call drive.mount(\"/content/drive\", force_remount=True).\n"
          ]
        }
      ]
    },
    {
      "cell_type": "code",
      "source": [
        "from keras import models\n",
        "m = models.load_model('/content/drive/MyDrive/FinalProject1.h5')\n"
      ],
      "metadata": {
        "id": "J2iW3wuLptXR"
      },
      "execution_count": null,
      "outputs": []
    },
    {
      "cell_type": "code",
      "source": [
        "pred1=m.predict(x_test)"
      ],
      "metadata": {
        "colab": {
          "base_uri": "https://localhost:8080/"
        },
        "id": "Ha_C_4pWtDbz",
        "outputId": "47e55704-260a-4047-844e-6da649d2bdc6"
      },
      "execution_count": null,
      "outputs": [
        {
          "output_type": "stream",
          "name": "stdout",
          "text": [
            "235/235 [==============================] - 21s 57ms/step\n"
          ]
        }
      ]
    },
    {
      "cell_type": "code",
      "source": [
        "print (pred1)"
      ],
      "metadata": {
        "id": "4PkWcdO8u9So",
        "outputId": "d10456a4-b84a-4828-b0da-b06240cbbc6c",
        "colab": {
          "base_uri": "https://localhost:8080/"
        }
      },
      "execution_count": null,
      "outputs": [
        {
          "output_type": "stream",
          "name": "stdout",
          "text": [
            "[[4.5289628e-08 1.1882567e-13 6.2956479e-10 ... 2.2219204e-10\n",
            "  1.0967580e-11 5.7274763e-10]\n",
            " [9.9999988e-01 2.4458740e-28 4.1114899e-27 ... 6.4569323e-22\n",
            "  5.8336793e-32 8.2694143e-08]\n",
            " [5.7642522e-09 1.5462489e-20 1.6394847e-16 ... 5.0176707e-12\n",
            "  1.0330076e-18 1.2355181e-11]\n",
            " ...\n",
            " [1.0000000e+00 6.6968136e-27 2.9497081e-24 ... 1.4905800e-24\n",
            "  1.0458869e-29 3.1084976e-16]\n",
            " [5.6589480e-23 6.7899838e-20 9.8421511e-23 ... 1.0000000e+00\n",
            "  8.3245097e-14 3.0734313e-16]\n",
            " [3.1043682e-27 2.4779467e-27 2.1936479e-27 ... 1.4809005e-23\n",
            "  1.2387593e-32 1.0000000e+00]]\n"
          ]
        }
      ]
    },
    {
      "cell_type": "code",
      "source": [
        "userOutput('/content/8028140.103693.jpg',m)"
      ],
      "metadata": {
        "colab": {
          "base_uri": "https://localhost:8080/",
          "height": 870
        },
        "id": "lYlyK5RKyPb4",
        "outputId": "e1c719f9-5e2f-4a78-e4c6-ff8acb0dc612"
      },
      "execution_count": null,
      "outputs": [
        {
          "output_type": "stream",
          "name": "stdout",
          "text": [
            "1/1 [==============================] - 0s 92ms/step\n",
            "Type of Shoe: Athletic Sandals\n",
            "Color:\n",
            "[('white', 8536), ('achro', 3722), ('orange', 1266), ('red', 283), ('yellow', 65)]\n",
            "Top three colors:\n",
            "white: 8536\n",
            "achro: 3722\n",
            "orange: 1266\n",
            "red: 283\n",
            "yellow: 65\n"
          ]
        },
        {
          "output_type": "display_data",
          "data": {
            "text/plain": [
              "<Figure size 640x480 with 1 Axes>"
            ],
            "image/png": "[encoded data removed]"
          },
          "metadata": {}
        },
        {
          "output_type": "display_data",
          "data": {
            "text/plain": [
              "<PIL.Image.Image image mode=RGB size=224x224 at 0x7F29D40D1510>"
            ],
            "image/png": "[encoded data removed]"
          },
          "metadata": {}
        }
      ]
    }
  ]
}